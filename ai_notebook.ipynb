{
 "cells": [
  {
   "cell_type": "markdown",
   "metadata": {},
   "source": [
    "# 基于keras认识深度学习\n",
    "## 为什么选择\n",
    "- 编程友好：在学习深度学习原理过程中，最好自己代码实践，keras极度适合初学者，能快速实验"
   ]
  },
  {
   "cell_type": "markdown",
   "metadata": {},
   "source": [
    "## 安装\n",
    "- Anaconda 和 Jupyter notebook已成为数据分析的标准环境\n",
    "    1. [anaconda安装](https://www.zhihu.com/question/58033789)\n",
    "    2. [jupyter notebook安装](https://www.zhihu.com/question/46309360/answer/254638807)\n",
    "    3. [keras安装](http://keras-cn.readthedocs.io/en/latest/#_2)\n",
    "    \n",
    "ps:直接导入环境配置文件，命令`conda env update -f=keras_environment.yml`"
   ]
  },
  {
   "attachments": {
    "image.png": {
     "image/png": "[encoded data removed]"
    }
   },
   "cell_type": "markdown",
   "metadata": {},
   "source": [
    "![image.png](attachment:image.png)"
   ]
  },
  {
   "cell_type": "markdown",
   "metadata": {},
   "source": [
    "### 定义模型\n",
    "- Sequential()模型\n",
    "```\n",
    "model = Sequential()\n",
    "model.add(Dense(32, input_shape=(784,)))\n",
    "model.add(Activation('relu'))\n",
    "```\n",
    "- Functional()模型\n",
    "```\n",
    "a = Input(shape=(32,))\n",
    "b = Dense(32)(a)\n",
    "model = Model(inputs=a, outputs=b)\n",
    "```\n",
    "### 编译模型\n",
    "```\n",
    "model.compile(optimizer='sgd', loss='mse')\n",
    "```\n",
    "必须传入损失函数和优化算法\n",
    "### 训练模型\n",
    "```\n",
    "history = model.fit(X, y, batch_size=10, epochs=100)\n",
    "```\n",
    "使用反向传播算法对数据进行训练\n",
    "### 评估模型\n",
    "```\n",
    "loss, accuracy = model.evaluate(X, y)\n",
    "```\n",
    "### 模型预测\n",
    "```\n",
    "predictions = model.predict(x)\n",
    "```"
   ]
  },
  {
   "cell_type": "markdown",
   "metadata": {},
   "source": [
    "## 线性回归\n",
    "### Keras对波士顿房价进行回归\n",
    "1. 定义模型假设为`y=Wx+b`\n",
    "2. 编译模型时选择损失函数为均方误差函数，优化算法选择随机梯度下降\n",
    "3. 传入数据以及迭代此时\n",
    "4. 均方误差函数进行评估\n",
    "5. 进行预测\n"
   ]
  },
  {
   "cell_type": "code",
   "execution_count": 4,
   "metadata": {},
   "outputs": [
    {
     "name": "stdout",
     "output_type": "stream",
     "text": [
      "Epoch 1/20\n",
      "404/404 [==============================] - 0s 527us/step - loss: 13144.4827 - mean_squared_error: 13144.4827\n",
      "Epoch 2/20\n",
      "404/404 [==============================] - 0s 40us/step - loss: 3041.2153 - mean_squared_error: 3041.2153\n",
      "Epoch 3/20\n",
      "404/404 [==============================] - 0s 45us/step - loss: 668.1933 - mean_squared_error: 668.1933\n",
      "Epoch 4/20\n",
      "404/404 [==============================] - 0s 42us/step - loss: 255.8141 - mean_squared_error: 255.8141\n",
      "Epoch 5/20\n",
      "404/404 [==============================] - 0s 40us/step - loss: 185.1011 - mean_squared_error: 185.1011\n",
      "Epoch 6/20\n",
      "404/404 [==============================] - 0s 40us/step - loss: 170.2183 - mean_squared_error: 170.2183\n",
      "Epoch 7/20\n",
      "404/404 [==============================] - 0s 40us/step - loss: 165.1749 - mean_squared_error: 165.1749\n",
      "Epoch 8/20\n",
      "404/404 [==============================] - 0s 37us/step - loss: 161.2603 - mean_squared_error: 161.2603\n",
      "Epoch 9/20\n",
      "404/404 [==============================] - 0s 35us/step - loss: 151.0976 - mean_squared_error: 151.0976\n",
      "Epoch 10/20\n",
      "404/404 [==============================] - 0s 35us/step - loss: 147.1785 - mean_squared_error: 147.1785\n",
      "Epoch 11/20\n",
      "404/404 [==============================] - 0s 40us/step - loss: 140.4976 - mean_squared_error: 140.4976\n",
      "Epoch 12/20\n",
      "404/404 [==============================] - 0s 42us/step - loss: 140.6603 - mean_squared_error: 140.6603\n",
      "Epoch 13/20\n",
      "404/404 [==============================] - 0s 40us/step - loss: 132.6787 - mean_squared_error: 132.6787\n",
      "Epoch 14/20\n",
      "404/404 [==============================] - 0s 40us/step - loss: 128.5385 - mean_squared_error: 128.5385\n",
      "Epoch 15/20\n",
      "404/404 [==============================] - 0s 37us/step - loss: 123.0882 - mean_squared_error: 123.0882\n",
      "Epoch 16/20\n",
      "404/404 [==============================] - 0s 40us/step - loss: 118.4096 - mean_squared_error: 118.4096\n",
      "Epoch 17/20\n",
      "404/404 [==============================] - 0s 40us/step - loss: 123.5432 - mean_squared_error: 123.5432\n",
      "Epoch 18/20\n",
      "404/404 [==============================] - 0s 42us/step - loss: 115.5308 - mean_squared_error: 115.5308\n",
      "Epoch 19/20\n",
      "404/404 [==============================] - 0s 40us/step - loss: 112.0784 - mean_squared_error: 112.0784\n",
      "Epoch 20/20\n",
      "404/404 [==============================] - 0s 37us/step - loss: 114.4626 - mean_squared_error: 114.4626\n",
      "102/102 [==============================] - 0s 324us/step\n",
      "[[15.296406]]\n"
     ]
    }
   ],
   "source": [
    "from keras.datasets import boston_housing\n",
    "from keras.models import Sequential\n",
    "from keras.layers import Dense\n",
    "from keras.optimizers import SGD\n",
    "import matplotlib.pyplot as plt\n",
    "import numpy as np\n",
    "# Boston房屋价格回归数据集\n",
    "# 每条数据含有13个属性，目标值是该位置房子的房价中位数\n",
    "(x_train, y_train), (x_test, y_test) = boston_housing.load_data()\n",
    "# 构建模型\n",
    "# Dense就是常用的全连接层，所实现的运算是output = activation(dot(input, kernel)+bias)\n",
    "model = Sequential()\n",
    "model.add(Dense(1,input_dim=13))\n",
    "# 编译\n",
    "model.compile(optimizer=SGD(lr=0.01,clipnorm=1),loss='mse',metrics=['mse'])\n",
    "# 训练\n",
    "cost = model.fit(x_train,y_train,epochs=20)\n",
    "# 评估\n",
    "score = model.evaluate(x_test,y_test)\n",
    "#预测\n",
    "y_pred = model.predict(x_test[0:1,:])\n",
    "print(y_pred)"
   ]
  },
  {
   "cell_type": "markdown",
   "metadata": {},
   "source": [
    "### 查看模型"
   ]
  },
  {
   "cell_type": "code",
   "execution_count": 5,
   "metadata": {},
   "outputs": [
    {
     "data": {
      "image/svg+xml": [
       "<svg height=\"138pt\" viewBox=\"0.00 0.00 307.00 138.00\" width=\"307pt\" xmlns=\"http://www.w3.org/2000/svg\" xmlns:xlink=\"http://www.w3.org/1999/xlink\">\n",
       "<g class=\"graph\" id=\"graph0\" transform=\"scale(1 1) rotate(0) translate(4 134)\">\n",
       "<title>G</title>\n",
       "<polygon fill=\"white\" points=\"-4,4 -4,-134 303,-134 303,4 -4,4\" stroke=\"none\"/>\n",
       "<!-- 1410385280136 -->\n",
       "<g class=\"node\" id=\"node1\"><title>1410385280136</title>\n",
       "<polygon fill=\"none\" points=\"0,-83.5 0,-129.5 299,-129.5 299,-83.5 0,-83.5\" stroke=\"black\"/>\n",
       "<text font-family=\"Times New Roman,serif\" font-size=\"14.00\" text-anchor=\"middle\" x=\"83\" y=\"-102.8\">dense_5_input: InputLayer</text>\n",
       "<polyline fill=\"none\" points=\"166,-83.5 166,-129.5 \" stroke=\"black\"/>\n",
       "<text font-family=\"Times New Roman,serif\" font-size=\"14.00\" text-anchor=\"middle\" x=\"194\" y=\"-114.3\">input:</text>\n",
       "<polyline fill=\"none\" points=\"166,-106.5 222,-106.5 \" stroke=\"black\"/>\n",
       "<text font-family=\"Times New Roman,serif\" font-size=\"14.00\" text-anchor=\"middle\" x=\"194\" y=\"-91.3\">output:</text>\n",
       "<polyline fill=\"none\" points=\"222,-83.5 222,-129.5 \" stroke=\"black\"/>\n",
       "<text font-family=\"Times New Roman,serif\" font-size=\"14.00\" text-anchor=\"middle\" x=\"260.5\" y=\"-114.3\">(None, 13)</text>\n",
       "<polyline fill=\"none\" points=\"222,-106.5 299,-106.5 \" stroke=\"black\"/>\n",
       "<text font-family=\"Times New Roman,serif\" font-size=\"14.00\" text-anchor=\"middle\" x=\"260.5\" y=\"-91.3\">(None, 13)</text>\n",
       "</g>\n",
       "<!-- 1410380076424 -->\n",
       "<g class=\"node\" id=\"node2\"><title>1410380076424</title>\n",
       "<polygon fill=\"none\" points=\"31,-0.5 31,-46.5 268,-46.5 268,-0.5 31,-0.5\" stroke=\"black\"/>\n",
       "<text font-family=\"Times New Roman,serif\" font-size=\"14.00\" text-anchor=\"middle\" x=\"83\" y=\"-19.8\">dense_5: Dense</text>\n",
       "<polyline fill=\"none\" points=\"135,-0.5 135,-46.5 \" stroke=\"black\"/>\n",
       "<text font-family=\"Times New Roman,serif\" font-size=\"14.00\" text-anchor=\"middle\" x=\"163\" y=\"-31.3\">input:</text>\n",
       "<polyline fill=\"none\" points=\"135,-23.5 191,-23.5 \" stroke=\"black\"/>\n",
       "<text font-family=\"Times New Roman,serif\" font-size=\"14.00\" text-anchor=\"middle\" x=\"163\" y=\"-8.3\">output:</text>\n",
       "<polyline fill=\"none\" points=\"191,-0.5 191,-46.5 \" stroke=\"black\"/>\n",
       "<text font-family=\"Times New Roman,serif\" font-size=\"14.00\" text-anchor=\"middle\" x=\"229.5\" y=\"-31.3\">(None, 13)</text>\n",
       "<polyline fill=\"none\" points=\"191,-23.5 268,-23.5 \" stroke=\"black\"/>\n",
       "<text font-family=\"Times New Roman,serif\" font-size=\"14.00\" text-anchor=\"middle\" x=\"229.5\" y=\"-8.3\">(None, 1)</text>\n",
       "</g>\n",
       "<!-- 1410385280136&#45;&gt;1410380076424 -->\n",
       "<g class=\"edge\" id=\"edge1\"><title>1410385280136-&gt;1410380076424</title>\n",
       "<path d=\"M149.5,-83.3664C149.5,-75.1516 149.5,-65.6579 149.5,-56.7252\" fill=\"none\" stroke=\"black\"/>\n",
       "<polygon fill=\"black\" points=\"153,-56.6068 149.5,-46.6068 146,-56.6069 153,-56.6068\" stroke=\"black\"/>\n",
       "</g>\n",
       "</g>\n",
       "</svg>"
      ],
      "text/plain": [
       "<IPython.core.display.SVG object>"
      ]
     },
     "execution_count": 5,
     "metadata": {},
     "output_type": "execute_result"
    }
   ],
   "source": [
    "from IPython.display import SVG\n",
    "from keras.utils.vis_utils import model_to_dot\n",
    "\n",
    "SVG(model_to_dot(model,show_shapes=True).create(prog='dot', format='svg'))"
   ]
  },
  {
   "cell_type": "code",
   "execution_count": 6,
   "metadata": {},
   "outputs": [
    {
     "name": "stdout",
     "output_type": "stream",
     "text": [
      "\r",
      "20/20 [==============================] - 0s 1ms/step\n"
     ]
    },
    {
     "data": {
      "image/png": "[encoded data removed]",
      "text/plain": [
       "<Figure size 432x288 with 1 Axes>"
      ]
     },
     "metadata": {},
     "output_type": "display_data"
    }
   ],
   "source": [
    "### 单变量线性回归\n",
    "\n",
    "\n",
    "# 构造数据\n",
    "x=np.linspace(-10,10,100)\n",
    "np.random.shuffle(x)\n",
    "y=5*x+10+np.random.normal(0,5,(100,))#加入噪声\n",
    "x_train,y_train,x_test,y_test = x[:80],y[:80],x[80:],y[80:]#训练数据与测试数据8：2\n",
    "# 构建模型\n",
    "# Dense就是常用的全连接层，所实现的运算是output = activation(dot(input, kernel)+bias)\n",
    "model = Sequential()\n",
    "model.add(Dense(1,input_dim=1))\n",
    "# 编译\n",
    "model.compile(optimizer='sgd',loss='mse',metrics=['mse'])\n",
    "# 训练\n",
    "cost = model.fit(x_train,y_train,epochs=20,verbose=0)\n",
    "# 评估\n",
    "score = model.evaluate(x_test,y_test)\n",
    "#预测\n",
    "y_pred = model.predict(x_test)\n",
    "# 可视化\n",
    "y_pred=model.predict(x_test)\n",
    "plt.scatter(x_test,y_test,)\n",
    "plt.plot(x_test,y_pred,'r')\n",
    "plt.show()"
   ]
  },
  {
   "cell_type": "code",
   "execution_count": 7,
   "metadata": {},
   "outputs": [
    {
     "data": {
      "image/png": "[encoded data removed]",
      "text/plain": [
       "<Figure size 432x288 with 1 Axes>"
      ]
     },
     "metadata": {},
     "output_type": "display_data"
    }
   ],
   "source": [
    "# 正规方程求解(没有添加偏置)\n",
    "def normal(x, y):\n",
    "    #theta = np.linalg.inv(X.T@X)@X.T@y#X.T@X等价于X.T.dot(X)\n",
    "    theta =np.linalg.inv(x.T.dot(x)).dot(x.T).dot(y)\n",
    "    return theta\n",
    "\n",
    "theta=normal(np.array(x_train).reshape(80,1),y_train)\n",
    "# 可视化\n",
    "plt.scatter(x_test,y_test)\n",
    "y_pred= np.array(x_test)*theta\n",
    "plt.plot(x_test,y_pred,'r')\n",
    "plt.show()"
   ]
  },
  {
   "attachments": {},
   "cell_type": "markdown",
   "metadata": {},
   "source": []
  },
  {
   "cell_type": "markdown",
   "metadata": {},
   "source": [
    "## 理论\n",
    "\n",
    "\n",
    "- **假设**\\\\[{{h}_{\\theta }}\\left( x \\right)={{\\theta }_{0}}+{{\\theta }_{1}}{{x}_{1}}+{{\\theta }_{2}}{{x}_{2}}+...+{{\\theta }_{n}}{{x}_{n}}\\\\] \n",
    "这个公式中有n+1个参数和n个变量，为了使得公式能够简化一些，引入${{x}_{0}}=1$，则公式转化为：  \n",
    "此时模型中的参数是一个n+1维的向量，任何一个训练实例也都是n+1维的向量，特征矩阵X的维度是 m*(n+1)。 因此公式可以简化为：${{h}_{\\theta }}\\left( x \\right)={{\\theta }^{T}}X$，其中上标T代表矩阵转置。\n",
    "\n",
    "- **代价函数**\n",
    "$$J\\left( \\theta  \\right)=\\frac{1}{2m}\\sum\\limits_{i=1}^{m}{{{\\left( {{h}_{\\theta }}\\left( {{x}^{(i)}} \\right)-{{y}^{(i)}} \\right)}^{2}}}$$\n",
    "其中：\\\\[{{h}_{\\theta }}\\left( x \\right)={{\\theta }^{T}}X={{\\theta }_{0}}{{x}_{0}}+{{\\theta }_{1}}{{x}_{1}}+{{\\theta }_{2}}{{x}_{2}}+...+{{\\theta }_{n}}{{x}_{n}}\\\\] \n",
    "\n",
    "- **优化方法**\n",
    "    1. 梯度下降\n",
    "    $${{\\theta }_{j}}:={{\\theta }_{j}}-\\alpha \\frac{\\partial }{\\partial {{\\theta }_{j}}}J\\left( \\theta  \\right)$$\n",
    "    2. 正规方程 \n",
    "    \n",
    "    正规方程是通过求解下面的方程来找出使得代价函数最小的参数的：$\\frac{\\partial }{\\partial {{\\theta }_{j}}}J\\left( {{\\theta }_{j}} \\right)=0$ 。\n",
    " 假设我们的训练集特征矩阵为 X（包含了${{x}_{0}}=1$）并且我们的训练集结果为向量 y，则利用正规方程解出向量 $\\theta ={{\\left( {{X}^{T}}X \\right)}^{-1}}{{X}^{T}}y$ 。\n",
    "上标T代表矩阵转置，上标-1 代表矩阵的逆。设矩阵$A={{X}^{T}}X$，则：${{\\left( {{X}^{T}}X \\right)}^{-1}}={{A}^{-1}}$\n",
    "\n",
    "    3. 梯度下降与正规方程的比较：\n",
    "\n",
    "        - 梯度下降：需要选择学习率α，需要多次迭代，当特征数量n大时也能较好适用，适用于各种类型的模型\t\n",
    "\n",
    "        - 正规方程：不需要选择学习率α，一次计算得出，需要计算${{\\left( {{X}^{T}}X \\right)}^{-1}}$，如果特征数量n较大则运算代价大，因为矩阵逆的计算时间复杂度为O(n3)，通常来说当n小于10000 时还是可以接受的，只适用于线性模型，不适合逻辑回归模型等其他模型\n"
   ]
  },
  {
   "cell_type": "markdown",
   "metadata": {},
   "source": [
    "## 逻辑回归\n"
   ]
  },
  {
   "cell_type": "code",
   "execution_count": 13,
   "metadata": {},
   "outputs": [],
   "source": [
    "import numpy as np\n",
    "from keras.models import Sequential\n",
    "from keras.layers import Dense\n",
    "import keras"
   ]
  },
  {
   "cell_type": "code",
   "execution_count": null,
   "metadata": {},
   "outputs": [],
   "source": []
  },
  {
   "attachments": {},
   "cell_type": "markdown",
   "metadata": {},
   "source": []
  },
  {
   "cell_type": "markdown",
   "metadata": {},
   "source": [
    "## 理论\n",
    "# sigmoid 函数\n",
    "g 代表一个常用的逻辑函数（logistic function）为S形函数（Sigmoid function），公式为： \\\\[g\\left( z \\right)=\\frac{1}{1+{{e}^{-z}}}\\\\] \n",
    "合起来，我们得到逻辑回归模型的假设函数： \n",
    "\t\\\\[{{h}_{\\theta }}\\left( x \\right)=\\frac{1}{1+{{e}^{-{{\\theta }^{T}}X}}}\\\\] \n",
    "    \n",
    "    \n",
    "# cost function(代价函数)\n",
    "\n",
    "\n",
    "$$\\begin{align}\n",
    "  & J\\left( \\theta  \\right)=-\\frac{1}{m}\\sum\\limits_{i=1}^{m}{[{{y}^{(i)}}\\log \\left( {{h}_{\\theta }}\\left( {{x}^{(i)}} \\right) \\right)+\\left( 1-{{y}^{(i)}} \\right)\\log \\left( 1-{{h}_{\\theta }}\\left( {{x}^{(i)}} \\right) \\right)]} \\\\ \n",
    " & =\\frac{1}{m}\\sum\\limits_{i=1}^{m}{[-{{y}^{(i)}}\\log \\left( {{h}_{\\theta }}\\left( {{x}^{(i)}} \\right) \\right)-\\left( 1-{{y}^{(i)}} \\right)\\log \\left( 1-{{h}_{\\theta }}\\left( {{x}^{(i)}} \\right) \\right)]} \\\\ \n",
    "\\end{align}$$\n",
    "\n",
    "# gradient descent(梯度下降)\n",
    "* 这是批量梯度下降（batch gradient descent）  \n",
    "* 转化为向量化计算： $\\frac{1}{m} X^T( Sigmoid(X\\theta) - y )$\n",
    "$$\\frac{\\partial J\\left( \\theta  \\right)}{\\partial {{\\theta }_{j}}}=\\frac{1}{m}\\sum\\limits_{i=1}^{m}{({{h}_{\\theta }}\\left( {{x}^{(i)}} \\right)-{{y}^{(i)}})x_{_{j}}^{(i)}}$$"
   ]
  },
  {
   "cell_type": "markdown",
   "metadata": {},
   "source": [
    "## 神经网络\n"
   ]
  },
  {
   "cell_type": "code",
   "execution_count": 1,
   "metadata": {},
   "outputs": [
    {
     "name": "stderr",
     "output_type": "stream",
     "text": [
      "C:\\Users\\DataMesh\\Anaconda3\\envs\\py3\\lib\\site-packages\\h5py\\__init__.py:36: FutureWarning: Conversion of the second argument of issubdtype from `float` to `np.floating` is deprecated. In future, it will be treated as `np.float64 == np.dtype(float).type`.\n",
      "  from ._conv import register_converters as _register_converters\n",
      "Using TensorFlow backend.\n"
     ]
    }
   ],
   "source": [
    "from keras.models import Sequential\n",
    "from keras.layers import Dense, Dropout, Activation\n",
    "from keras.optimizers import SGD\n",
    "import tensorflow as tf\n",
    "import keras\n",
    "import numpy as np"
   ]
  },
  {
   "cell_type": "code",
   "execution_count": 3,
   "metadata": {},
   "outputs": [
    {
     "name": "stdout",
     "output_type": "stream",
     "text": [
      "(1000, 20) (1000, 10)\n",
      "Epoch 1/20\n",
      "1000/1000 [==============================] - 0s 313us/step - loss: 2.3688 - acc: 0.0980\n",
      "Epoch 2/20\n",
      "1000/1000 [==============================] - 0s 22us/step - loss: 2.3446 - acc: 0.1000\n",
      "Epoch 3/20\n",
      "1000/1000 [==============================] - 0s 20us/step - loss: 2.3213 - acc: 0.1250\n",
      "Epoch 4/20\n",
      "1000/1000 [==============================] - 0s 20us/step - loss: 2.3287 - acc: 0.1100\n",
      "Epoch 5/20\n",
      "1000/1000 [==============================] - 0s 21us/step - loss: 2.3065 - acc: 0.1140\n",
      "Epoch 6/20\n",
      "1000/1000 [==============================] - 0s 20us/step - loss: 2.3219 - acc: 0.1000\n",
      "Epoch 7/20\n",
      "1000/1000 [==============================] - 0s 20us/step - loss: 2.3094 - acc: 0.1180\n",
      "Epoch 8/20\n",
      "1000/1000 [==============================] - 0s 19us/step - loss: 2.3052 - acc: 0.1100\n",
      "Epoch 9/20\n",
      "1000/1000 [==============================] - 0s 19us/step - loss: 2.2990 - acc: 0.1370\n",
      "Epoch 10/20\n",
      "1000/1000 [==============================] - 0s 18us/step - loss: 2.2996 - acc: 0.1190\n",
      "Epoch 11/20\n",
      "1000/1000 [==============================] - 0s 19us/step - loss: 2.2975 - acc: 0.1320\n",
      "Epoch 12/20\n",
      "1000/1000 [==============================] - 0s 19us/step - loss: 2.3026 - acc: 0.1090\n",
      "Epoch 13/20\n",
      "1000/1000 [==============================] - 0s 19us/step - loss: 2.2979 - acc: 0.1130\n",
      "Epoch 14/20\n",
      "1000/1000 [==============================] - 0s 19us/step - loss: 2.2977 - acc: 0.1200\n",
      "Epoch 15/20\n",
      "1000/1000 [==============================] - 0s 20us/step - loss: 2.2874 - acc: 0.1100\n",
      "Epoch 16/20\n",
      "1000/1000 [==============================] - 0s 21us/step - loss: 2.2853 - acc: 0.1390\n",
      "Epoch 17/20\n",
      "1000/1000 [==============================] - 0s 19us/step - loss: 2.2897 - acc: 0.1330\n",
      "Epoch 18/20\n",
      "1000/1000 [==============================] - 0s 19us/step - loss: 2.2823 - acc: 0.1380\n",
      "Epoch 19/20\n",
      "1000/1000 [==============================] - 0s 18us/step - loss: 2.2890 - acc: 0.1290\n",
      "Epoch 20/20\n",
      "1000/1000 [==============================] - 0s 20us/step - loss: 2.2891 - acc: 0.1260\n",
      "100/100 [==============================] - 0s 420us/step\n",
      "_________________________________________________________________\n",
      "Layer (type)                 Output Shape              Param #   \n",
      "=================================================================\n",
      "dense_3 (Dense)              (None, 64)                1344      \n",
      "_________________________________________________________________\n",
      "dropout_2 (Dropout)          (None, 64)                0         \n",
      "_________________________________________________________________\n",
      "dense_4 (Dense)              (None, 10)                650       \n",
      "=================================================================\n",
      "Total params: 1,994\n",
      "Trainable params: 1,994\n",
      "Non-trainable params: 0\n",
      "_________________________________________________________________\n"
     ]
    }
   ],
   "source": [
    "x_train = np.random.random((1000, 20))\n",
    "y_train = keras.utils.to_categorical(np.random.randint(10, size=(1000, 1)), num_classes=10)\n",
    "x_test = np.random.random((100, 20))\n",
    "y_test = keras.utils.to_categorical(np.random.randint(10, size=(100, 1)), num_classes=10)\n",
    "print(x_train.shape,y_train.shape)\n",
    "model = Sequential()\n",
    "\n",
    "model.add(Dense(64, activation='relu', input_dim=20))\n",
    "model.add(Dropout(0.5))\n",
    "model.add(Dense(10, activation='softmax'))\n",
    "\n",
    "sgd = SGD(lr=0.01, decay=1e-6, momentum=0.9, nesterov=True)\n",
    "model.compile(loss='categorical_crossentropy',\n",
    "              optimizer=sgd,\n",
    "              metrics=['accuracy'])\n",
    "\n",
    "model.fit(x_train, y_train,\n",
    "          epochs=20,\n",
    "          batch_size=128)\n",
    "score = model.evaluate(x_test, y_test, batch_size=128)\n",
    "model.summary()"
   ]
  },
  {
   "cell_type": "markdown",
   "metadata": {},
   "source": [
    "- 启动tensorboard，代码中加入\n",
    "```\n",
    "tb_cb=keras.callbacks.TensorBoard(log_dir='./logs', histogram_freq=1, write_graph=True, write_images=False, embeddings_freq=0, embeddings_layer_names=None, embeddings_metadata=None)\n",
    "cbks=[];\n",
    "cbks.append(tb_cb);\n",
    "model.fit(x_train, y_train,\n",
    "          epochs=20,\n",
    "          batch_size=128,\n",
    "         verbose=0,\n",
    "          validation_split=0.2,\n",
    "         callbacks=cbks)\n",
    "```"
   ]
  },
  {
   "attachments": {},
   "cell_type": "markdown",
   "metadata": {},
   "source": []
  },
  {
   "cell_type": "markdown",
   "metadata": {},
   "source": [
    "## 理论\n",
    "\n",
    "建立神经网络的主要步骤：\n",
    "\n",
    "1. 定义模型结构（例如输入特征的数量）\n",
    "2. 初始化模型的参数\n",
    "3. 循环：\n",
    "    - 正向传播（计算当前损失）\n",
    "    - 反向传播（计算当前梯度）\n",
    "    - 更新参数（梯度下降）\n",
    "    \n",
    "对于每个样本： $x^{(i)}$:\n",
    "$$z^{(i)} = w^T x^{(i)} + b \\tag{1}$$\n",
    "$$\\hat{y}^{(i)} = a^{(i)} = sigmoid(z^{(i)})\\tag{2}$$ \n",
    "$$ \\mathcal{L}(a^{(i)}, y^{(i)}) =  - y^{(i)}  \\log(a^{(i)}) - (1-y^{(i)} )  \\log(1-a^{(i)})\\tag{3}$$\n",
    "\n",
    "所有样本代价函数:\n",
    "$$ J = \\frac{1}{m} \\sum_{i=1}^m \\mathcal{L}(a^{(i)}, y^{(i)})\\tag{6}$$\n"
   ]
  },
  {
   "cell_type": "code",
   "execution_count": null,
   "metadata": {},
   "outputs": [],
   "source": []
  }
 ],
 "metadata": {
  "kernelspec": {
   "display_name": "Python [conda env:py3]",
   "language": "python",
   "name": "conda-env-py3-py"
  },
  "language_info": {
   "codemirror_mode": {
    "name": "ipython",
    "version": 3
   },
   "file_extension": ".py",
   "mimetype": "text/x-python",
   "name": "python",
   "nbconvert_exporter": "python",
   "pygments_lexer": "ipython3",
   "version": "3.6.5"
  }
 },
 "nbformat": 4,
 "nbformat_minor": 2
}
